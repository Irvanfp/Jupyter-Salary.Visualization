{
 "cells": [
  {
   "cell_type": "markdown",
   "metadata": {},
   "source": [
    "# *Common Magic Method Jupyter*"
   ]
  },
  {
   "cell_type": "markdown",
   "metadata": {},
   "source": [
    "## 1. `%time`"
   ]
  },
  {
   "cell_type": "markdown",
   "metadata": {},
   "source": [
    "`%time` biasanya digunakan untuk menghitung berapa lama waktu yang dibutuhkan untuk mengeksekusi atau menjalankan suatu proses. Misalkan kita mau mengetahui berapa lama proses perkalian 5 dengan 20 di bawah ini:"
   ]
  },
  {
   "cell_type": "code",
   "execution_count": null,
   "metadata": {},
   "outputs": [],
   "source": [
    "%time 5*20"
   ]
  },
  {
   "cell_type": "markdown",
   "metadata": {},
   "source": [
    "Ketika kita jalankan akan muncul berapa lama prosesnya, dan satuannya adalah *microsecond*."
   ]
  },
  {
   "cell_type": "markdown",
   "metadata": {},
   "source": [
    "## 2. `%timeit`"
   ]
  },
  {
   "cell_type": "markdown",
   "metadata": {},
   "source": [
    "`%%timeit` biasanya digunakan untuk menghitung berapa lama waktu yang dibutuhkan untuk menjalankan atau mengeksekusi suatu perulangan menggunkan `numpy`. *Numpy* digunakan untuk membaca data tanpa menggunakan perulangan. *Numpy* akan kita bahas lebih dalam pada pertemuan selanjutnya.\n",
    "\n",
    "Kecepatan dari eksekusi dihitung dalam satuan di bawah ini:\n",
    "\n",
    "![Satuan waktu](../img/10.png)\n"
   ]
  },
  {
   "cell_type": "code",
   "execution_count": null,
   "metadata": {},
   "outputs": [],
   "source": [
    "import numpy as np\n",
    "%timeit np.random.normal(50) # mengenerate 50 angka random dr numpy"
   ]
  },
  {
   "cell_type": "markdown",
   "metadata": {},
   "source": [
    "## 3. `%%writefile`"
   ]
  },
  {
   "cell_type": "markdown",
   "metadata": {},
   "source": [
    "`%%writefile` digunakan untuk membuat *file* melalui *jupyter*. Perintah ini akan meng-*override* *file* yang ada apabila *file* tersebut telah ada di di *folder* *jupyter*."
   ]
  },
  {
   "cell_type": "code",
   "execution_count": null,
   "metadata": {},
   "outputs": [],
   "source": [
    "%%writefile test.txt\n",
    "Ini dibuat lewat jupyter nootebook"
   ]
  },
  {
   "cell_type": "markdown",
   "metadata": {},
   "source": [
    "## 4. `%ls`"
   ]
  },
  {
   "cell_type": "markdown",
   "metadata": {},
   "source": [
    "`%ls` digunakan untuk melihat semua *file* dan *folder* pada *folder* di mana *jupyter* dijalankan."
   ]
  },
  {
   "cell_type": "code",
   "execution_count": null,
   "metadata": {},
   "outputs": [],
   "source": [
    "%ls"
   ]
  },
  {
   "cell_type": "markdown",
   "metadata": {},
   "source": [
    "## 5. `%%HTML`"
   ]
  },
  {
   "cell_type": "markdown",
   "metadata": {},
   "source": [
    "`%%HTML` digunakan untuk menjalankan kode html pada *jupyter notebook*. Kita juga bisa menampilkan video pada *jupyter notebook*."
   ]
  },
  {
   "cell_type": "code",
   "execution_count": null,
   "metadata": {},
   "outputs": [],
   "source": [
    "%%html\n",
    "<div style='height: 100px; width:100px; background-color: red;'></div>"
   ]
  },
  {
   "cell_type": "code",
   "execution_count": null,
   "metadata": {},
   "outputs": [],
   "source": [
    "%%html\n",
    "<div>\n",
    "    <video src=\"../video/1. Introduction to the Course.mp4\" controls></video>\n",
    "</div>"
   ]
  },
  {
   "cell_type": "markdown",
   "metadata": {},
   "source": [
    "## 6. `%%latex`"
   ]
  },
  {
   "cell_type": "markdown",
   "metadata": {},
   "source": [
    "`%%latex` digunakan untuk menampilkan algoritma atau rumus matematika yang rumit. Jika tertarik untuk mempelajari *latex* lebih lanjut dapat mengunjungi [situs ini](https://www.overleaf.com/learn/latex/Learn_LaTeX_in_30_minutes)."
   ]
  },
  {
   "cell_type": "code",
   "execution_count": null,
   "metadata": {},
   "outputs": [],
   "source": [
    "%%latex\n",
    "\\begin{align}\n",
    "Gradient = \\nabla J = - 2H^T (Y-HW)\n",
    "\\end{align}"
   ]
  },
  {
   "cell_type": "markdown",
   "metadata": {},
   "source": [
    "## 7. `%load_ext`"
   ]
  },
  {
   "cell_type": "markdown",
   "metadata": {},
   "source": [
    "`%load_ext` digunakan untuk menggunakan *external module* atau *external library* ke dalam *jupyter notebook*. Ada banyak sekali *external library* yang bukan bawaan dari *jupyter notebook*. Kadang kita membutuhkan *external library* tersebut untuk kebutuhan *data science* kita.\n",
    "\n",
    "Contoh *external library* yang akan kita coba adalah *sql library*. Sql ini intinya akan memudahkan kita dalam mengelola tabel, seperti membuat tabel, mengisikan tabel, menampilkan tabel, dsb. Untuk menyimpan hasil pengolahan datanya kita membutuhkan *database*. Kita menggunakan *database* yang namanya SQLate yang sudah otomatis terinstal ketika kita menginstal *python*.\n",
    "\n",
    "Pertama *install* dulu *sql library*-nya menggunakan `pip` *(windows)* atau `pip3` *(MacOs)*:"
   ]
  },
  {
   "cell_type": "code",
   "execution_count": null,
   "metadata": {},
   "outputs": [],
   "source": [
    "!pip install ipython-sql"
   ]
  },
  {
   "cell_type": "markdown",
   "metadata": {},
   "source": [
    "Setelah di-*import*, selanjutnya kita *import* *sql library*-nya ke dalam *jupyter* menggunakan `%load_ext`:"
   ]
  },
  {
   "cell_type": "code",
   "execution_count": 12,
   "metadata": {},
   "outputs": [],
   "source": [
    "%load_ext sql"
   ]
  },
  {
   "cell_type": "markdown",
   "metadata": {},
   "source": [
    "Buat *database* baru dengan nama `contoh.db3`."
   ]
  },
  {
   "cell_type": "code",
   "execution_count": null,
   "metadata": {},
   "outputs": [],
   "source": [
    "%sql sqlite:///../db/contoh.db3"
   ]
  },
  {
   "cell_type": "markdown",
   "metadata": {},
   "source": [
    "Buat tabel baru dengan nama `kelas`:"
   ]
  },
  {
   "cell_type": "code",
   "execution_count": null,
   "metadata": {},
   "outputs": [],
   "source": [
    "%%sql\n",
    "create table kelas(nama, umur, nomer);"
   ]
  },
  {
   "cell_type": "markdown",
   "metadata": {},
   "source": [
    "Isikan tabel `kelas`:"
   ]
  },
  {
   "cell_type": "code",
   "execution_count": null,
   "metadata": {},
   "outputs": [],
   "source": [
    "%%sql\n",
    "insert into kelas values ('fauzan',19,1);\n",
    "insert into kelas values ('affan',17,2);"
   ]
  },
  {
   "cell_type": "markdown",
   "metadata": {},
   "source": [
    "Tampilkan isi tabel `kelas`:"
   ]
  },
  {
   "cell_type": "code",
   "execution_count": null,
   "metadata": {},
   "outputs": [],
   "source": [
    "%sql select * from kelas"
   ]
  },
  {
   "cell_type": "markdown",
   "metadata": {},
   "source": [
    "## 8. `%lsmagic`"
   ]
  },
  {
   "cell_type": "markdown",
   "metadata": {},
   "source": [
    "`%lsmagic` digunakan untuk melihat daftar *magic method* yang bisa kita gunakan."
   ]
  },
  {
   "cell_type": "code",
   "execution_count": null,
   "metadata": {},
   "outputs": [],
   "source": [
    "%lsmagic"
   ]
  }
 ],
 "metadata": {
  "kernelspec": {
   "display_name": "Python 3",
   "language": "python",
   "name": "python3"
  },
  "language_info": {
   "codemirror_mode": {
    "name": "ipython",
    "version": 3
   },
   "file_extension": ".py",
   "mimetype": "text/x-python",
   "name": "python",
   "nbconvert_exporter": "python",
   "pygments_lexer": "ipython3",
   "version": "3.7.6"
  }
 },
 "nbformat": 4,
 "nbformat_minor": 2
}
