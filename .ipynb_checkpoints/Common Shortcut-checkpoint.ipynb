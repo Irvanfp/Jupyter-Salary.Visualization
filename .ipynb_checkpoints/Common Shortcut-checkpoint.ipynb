{
 "cells": [
  {
   "cell_type": "markdown",
   "metadata": {},
   "source": [
    "# *Common Shortcut Jupyter Notebook*"
   ]
  },
  {
   "cell_type": "markdown",
   "metadata": {},
   "source": [
    "## 1. *Markdown* (`m`)"
   ]
  },
  {
   "cell_type": "markdown",
   "metadata": {},
   "source": [
    "Jika kita sedang aktif di satu *cell*, kita harus keluar dulu dari *cell*. **Sehingga yang tadinya *cell* berwarna hijau muda berubah berwarna biru muda dengan menekan `esc` *button***. Setelah *cell* berwarna biru muda kita tinggal menekan `m`, lalu gunakan format *markdown* seperti biasa. Selanjutnya kita tinggal tekan `Run`."
   ]
  },
  {
   "cell_type": "markdown",
   "metadata": {},
   "source": [
    "Silahkan mencoba:"
   ]
  },
  {
   "cell_type": "code",
   "execution_count": null,
   "metadata": {},
   "outputs": [],
   "source": []
  },
  {
   "cell_type": "markdown",
   "metadata": {},
   "source": [
    "## 2. *Run* (`Shift + Enter`)"
   ]
  },
  {
   "cell_type": "markdown",
   "metadata": {},
   "source": [
    "Biasanya kita menekan *button* `Run` untuk menjalankan *cell* yang sedang aktif. Sekarang kita lebih dimudahkan untuk menjalankan kode program dengan hanya menekan `shift` + `enter`."
   ]
  },
  {
   "cell_type": "markdown",
   "metadata": {},
   "source": [
    "Silahkan mencoba:"
   ]
  },
  {
   "cell_type": "code",
   "execution_count": null,
   "metadata": {},
   "outputs": [],
   "source": []
  },
  {
   "cell_type": "markdown",
   "metadata": {},
   "source": [
    "## 3. Hapus *cell* (`d + d`)"
   ]
  },
  {
   "cell_type": "markdown",
   "metadata": {},
   "source": [
    "Sama seperti sebelumnya, jika kita sedang aktif di satu *cell*, kita harus keluar dulu dari *cell* tersebut. Setelah *cell* sudah berubah menjadi warna biru muda, kita tinggal menekan `d` sebanyak 2x untuk menghapus *cell* tersebut."
   ]
  },
  {
   "cell_type": "markdown",
   "metadata": {},
   "source": [
    "Silahkan mencoba:"
   ]
  },
  {
   "cell_type": "code",
   "execution_count": null,
   "metadata": {},
   "outputs": [],
   "source": []
  },
  {
   "cell_type": "markdown",
   "metadata": {},
   "source": [
    "## 4. Menambah *cell* di atas (`a`)"
   ]
  },
  {
   "cell_type": "markdown",
   "metadata": {},
   "source": [
    "Sama seperti sebelumnya, jika kita sedang aktif di satu *cell*, kita harus keluar dulu dari *cell* tersebut. Setelah *cell* sudah berubah menjadi warna biru muda, kita tinggal menekan `a` sebanyak 1x untuk menambahkan *cell* di atas *cell* yang sedang aktif."
   ]
  },
  {
   "cell_type": "markdown",
   "metadata": {},
   "source": [
    "Silahkan mencoba:"
   ]
  },
  {
   "cell_type": "code",
   "execution_count": null,
   "metadata": {},
   "outputs": [],
   "source": []
  },
  {
   "cell_type": "markdown",
   "metadata": {},
   "source": [
    "## 5. Menambah *cell* di bawah (`b`)"
   ]
  },
  {
   "cell_type": "markdown",
   "metadata": {},
   "source": [
    "Sama seperti sebelumnya, jika kita sedang aktif di satu *cell*, kita harus keluar dulu dari *cell* tersebut. Setelah *cell* sudah berubah menjadi warna biru muda, kita tinggal menekan `b` sebanyak 1x untuk menambahkan *cell* di bawah *cell* yang sedang aktif."
   ]
  },
  {
   "cell_type": "markdown",
   "metadata": {},
   "source": [
    "Silahkan mencoba:"
   ]
  },
  {
   "cell_type": "code",
   "execution_count": null,
   "metadata": {},
   "outputs": [],
   "source": []
  },
  {
   "cell_type": "markdown",
   "metadata": {},
   "source": [
    "## 6. Menghentikan proses secara paksa (`i + i`)"
   ]
  },
  {
   "cell_type": "markdown",
   "metadata": {},
   "source": [
    "Misalkan kita membuat perulangan tanpa henti seperti:"
   ]
  },
  {
   "cell_type": "code",
   "execution_count": null,
   "metadata": {},
   "outputs": [],
   "source": [
    "while True:\n",
    "    print('Press i twice')"
   ]
  },
  {
   "cell_type": "markdown",
   "metadata": {},
   "source": [
    "Ketika kode di atas kita `run` akan menghasilkan perulangan tanpa henti. Nah, untuk menghentikan perulangan tersebut secara paksa kita bisa menekan `i` sebanyak 2x."
   ]
  },
  {
   "cell_type": "markdown",
   "metadata": {},
   "source": [
    "Silahkan mencoba:"
   ]
  },
  {
   "cell_type": "code",
   "execution_count": null,
   "metadata": {},
   "outputs": [],
   "source": []
  },
  {
   "cell_type": "markdown",
   "metadata": {},
   "source": [
    "## 7. Ke *cell* pertama & *cell* terakhir (`Ctrl + Up` atau `Ctrl + Down`)"
   ]
  },
  {
   "cell_type": "markdown",
   "metadata": {},
   "source": [
    "Jika kita memiliki *cell* yang sangat banyak, kita harus men-*scroll* ke atas dan ke bawah untuk menuju ke *cell* pertama atau *cell* terakhir. *Jupyter* menyediakan *shortcut* yang memudahkan kita untuk melakukan hal tersebut.\n",
    "\n",
    "Jika kita ingin ke *cell* pertama, kita cukup menekan `Ctrl` + key `up`.\n",
    "\n",
    "Jika kita ingin ke *cell* terakhir, kita cukup menekan `Ctrl` + key `down`."
   ]
  },
  {
   "cell_type": "markdown",
   "metadata": {},
   "source": [
    "**Silahkan mencoba**"
   ]
  },
  {
   "cell_type": "markdown",
   "metadata": {},
   "source": [
    "## 8. Memunculkan angka di awal setiap baris kode (`l`)"
   ]
  },
  {
   "cell_type": "markdown",
   "metadata": {},
   "source": [
    "Misalkan kita mempunyai kode sebagai berikut:"
   ]
  },
  {
   "cell_type": "code",
   "execution_count": null,
   "metadata": {},
   "outputs": [],
   "source": [
    "i = ['aku','sayang','kamu']\n",
    "for perasaan in i:\n",
    "    print(perasaan)"
   ]
  },
  {
   "cell_type": "markdown",
   "metadata": {},
   "source": [
    "Pada baris ke berapakah `print(perasaan)`? Jawabannya pada baris ke-3. Nah, dengan menekan `l` kita bisa melihat baris dari kode yang kita buat. Ini akan sangat berguna ketika kita memiliki banyak sekali baris kode. Sebelum menekan `l` tentu kita harus keluar dulu dari *cell* tersebut dengan menekan `esc`."
   ]
  },
  {
   "cell_type": "markdown",
   "metadata": {},
   "source": [
    "Silahkan mencoba:"
   ]
  },
  {
   "cell_type": "code",
   "execution_count": null,
   "metadata": {},
   "outputs": [],
   "source": []
  },
  {
   "cell_type": "markdown",
   "metadata": {},
   "source": [
    "## 9. Melihat semua *shortcut* (`p`)"
   ]
  },
  {
   "cell_type": "markdown",
   "metadata": {},
   "source": [
    "Ada banyak sekali *shortcut* yang disediakan *jupyter notebook*. Jika teman-teman penasaran dan ingin mencobanya satu persatu, silahkan keluar dulu dari *cell* lalu tekan `p`."
   ]
  }
 ],
 "metadata": {
  "kernelspec": {
   "display_name": "Python 3",
   "language": "python",
   "name": "python3"
  },
  "language_info": {
   "codemirror_mode": {
    "name": "ipython",
    "version": 3
   },
   "file_extension": ".py",
   "mimetype": "text/x-python",
   "name": "python",
   "nbconvert_exporter": "python",
   "pygments_lexer": "ipython3",
   "version": "3.7.6"
  }
 },
 "nbformat": 4,
 "nbformat_minor": 2
}
